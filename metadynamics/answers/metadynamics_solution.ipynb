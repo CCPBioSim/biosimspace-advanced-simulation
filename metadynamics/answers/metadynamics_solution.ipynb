{
 "cells": [
  {
   "cell_type": "markdown",
   "metadata": {},
   "source": [
    "# Association/dissociation of NaCl\n",
    "\n",
    "First, let's import BioSimSpace:"
   ]
  },
  {
   "cell_type": "code",
   "execution_count": null,
   "metadata": {},
   "outputs": [],
   "source": [
    "import BioSimSpace as BSS"
   ]
  },
  {
   "cell_type": "markdown",
   "metadata": {},
   "source": [
    "Next, let's load the solvated NaCl system:"
   ]
  },
  {
   "cell_type": "code",
   "execution_count": null,
   "metadata": {},
   "outputs": [],
   "source": [
    "system = BSS.IO.readMolecules([\"../input/nacl.gro\", \"../input/nacl.top\"])"
   ]
  },
  {
   "cell_type": "markdown",
   "metadata": {},
   "source": [
    "Search the system for the ions and get their index:"
   ]
  },
  {
   "cell_type": "code",
   "execution_count": null,
   "metadata": {},
   "outputs": [],
   "source": [
    "na = system.getIndex(system.search(\"atomname NA\")[0])\n",
    "cl = system.getIndex(system.search(\"atomname CL\")[0])\n",
    "print(na)"
   ]
  },
  {
   "cell_type": "markdown",
   "metadata": {},
   "source": [
    "Create an upper bound at a distance of 0.6 nm:"
   ]
  },
  {
   "cell_type": "code",
   "execution_count": null,
   "metadata": {},
   "outputs": [],
   "source": [
    "upper_bound = BSS.Metadynamics.Bound(\n",
    "    0.6 * BSS.Units.Length.nanometer, force_constant=2000\n",
    ")"
   ]
  },
  {
   "cell_type": "markdown",
   "metadata": {},
   "source": [
    "Create a grid on which to sample the collective variable:"
   ]
  },
  {
   "cell_type": "code",
   "execution_count": null,
   "metadata": {},
   "outputs": [],
   "source": [
    "grid = BSS.Metadynamics.Grid(\n",
    "    minimum=0 * BSS.Units.Length.nanometer, maximum=BSS.Units.Length.nanometer\n",
    ")"
   ]
  },
  {
   "cell_type": "markdown",
   "metadata": {},
   "source": [
    "Create a collective variable representing the distance between the ions:"
   ]
  },
  {
   "cell_type": "code",
   "execution_count": null,
   "metadata": {},
   "outputs": [],
   "source": [
    "colvar = BSS.Metadynamics.CollectiveVariable.Distance(\n",
    "    atom0=na,\n",
    "    atom1=cl,\n",
    "    hill_width=0.02 * BSS.Units.Length.nanometer,\n",
    "    upper_bound=upper_bound,\n",
    "    grid=grid,\n",
    ")"
   ]
  },
  {
   "cell_type": "markdown",
   "metadata": {},
   "source": [
    "Define the metadynamics protocol:"
   ]
  },
  {
   "cell_type": "code",
   "execution_count": null,
   "metadata": {},
   "outputs": [],
   "source": [
    "protocol = BSS.Protocol.Metadynamics(colvar, bias_factor=5)"
   ]
  },
  {
   "cell_type": "markdown",
   "metadata": {},
   "source": [
    "Initialise a process to run the metadynamics protocol:"
   ]
  },
  {
   "cell_type": "code",
   "execution_count": null,
   "metadata": {},
   "outputs": [],
   "source": [
    "process = BSS.Metadynamics.run(system, protocol, auto_start=False)\n",
    "# Uncomment the line below to increase the number of threads used by GROMACS.\n",
    "# process.setArg(\"-ntomp\", 4)\n",
    "process.start()"
   ]
  },
  {
   "cell_type": "markdown",
   "metadata": {},
   "source": [
    "Plot the time evolution of the collective variable. (Note that this simulation is much slower than the alanine-dipeptide example, so it might take a while for data to appear.)"
   ]
  },
  {
   "cell_type": "code",
   "execution_count": null,
   "metadata": {},
   "outputs": [],
   "source": [
    "BSS.Notebook.plot(\n",
    "    process.getTime(time_series=True),\n",
    "    process.getCollectiveVariable(0, time_series=True),\n",
    ")"
   ]
  },
  {
   "cell_type": "markdown",
   "metadata": {},
   "source": [
    "Plot the free energy estimate:"
   ]
  },
  {
   "cell_type": "code",
   "execution_count": null,
   "metadata": {},
   "outputs": [],
   "source": [
    "free_nrgy = process.getFreeEnergy()\n",
    "BSS.Notebook.plot(free_nrgy[0], free_nrgy[1])"
   ]
  },
  {
   "cell_type": "markdown",
   "metadata": {},
   "source": [
    "Note that the free energy increases beyond 0.6 nm because of the upper bound that we've imposed.\n",
    "\n",
    "Sample confugrations from the basin near 0.25 nm:"
   ]
  },
  {
   "cell_type": "code",
   "execution_count": null,
   "metadata": {},
   "outputs": [],
   "source": [
    "bounds = [(0.225 * BSS.Units.Length.nanometer, 0.275 * BSS.Units.Length.nanometer)]\n",
    "configs, colvars = process.sampleConfigurations(bounds, 20)"
   ]
  },
  {
   "cell_type": "markdown",
   "metadata": {},
   "source": [
    "View the first configuration (ions only):"
   ]
  },
  {
   "cell_type": "code",
   "execution_count": null,
   "metadata": {},
   "outputs": [],
   "source": [
    "config = configs[0]\n",
    "config.removeWaterMolecules()\n",
    "view = BSS.Notebook.View(config)\n",
    "view.system()"
   ]
  }
 ],
 "metadata": {
  "kernelspec": {
   "display_name": "Python 3 (ipykernel)",
   "language": "python",
   "name": "python3"
  },
  "language_info": {
   "codemirror_mode": {
    "name": "ipython",
    "version": 3
   },
   "file_extension": ".py",
   "mimetype": "text/x-python",
   "name": "python",
   "nbconvert_exporter": "python",
   "pygments_lexer": "ipython3",
   "version": "3.9.15"
  }
 },
 "nbformat": 4,
 "nbformat_minor": 2
}
