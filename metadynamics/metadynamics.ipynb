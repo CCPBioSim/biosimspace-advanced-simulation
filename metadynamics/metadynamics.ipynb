{
 "cells": [
  {
   "cell_type": "markdown",
   "metadata": {},
   "source": [
    "# Metadynamics\n",
    "\n",
    "Authors:   \n",
    "[Lester Hedges -- @lohedges](https://github.com/lohedges)\n",
    "\n",
    "**Jupyter cheat sheet**:\n",
    "- To run the currently highlighted cell and move focus to the next cell, hold <kbd>&#x21E7; Shift</kbd> and press <kbd>&#x23ce; Enter</kbd>;\n",
    "- To run the currently highlighted cell and keep focus in the same cell, hold <kbd>&#x21E7; Ctri</kbd> and press <kbd>&#x23ce; Enter</kbd>;\n",
    "- To get help for a specific function, place the cursor within the function's brackets, hold <kbd>&#x21E7; Shift</kbd>, and press <kbd>&#x21E5; Tab</kbd>;\n",
    "- You can find the full documentation at [biosimspace.org](https://biosimspace.org).\n",
    "\n",
    "\n",
    "In this notebook you'll use BioSimspace to set up and run a simple [metadynamics](https://en.wikipedia.org/wiki/Metadynamics) simulation to calculate the free energy as a function of the $\\phi$ and $\\psi$ dihedral angles for an alanine dipeptide molecule in vacuum.\n",
    "\n",
    "![alanine dipeptide](https://raw.githubusercontent.com/CCPBioSim/biosimspace-advanced-simulation/de3f65372b49879b788f46618e0bfef78b2559b9/metadynamics/assets/alanine_dipeptide.png)\n",
    "\n",
    "\n",
    "First, let's import BioSimSpace:"
   ]
  },
  {
   "cell_type": "code",
   "execution_count": null,
   "metadata": {},
   "outputs": [],
   "source": [
    "import BioSimSpace as BSS"
   ]
  },
  {
   "cell_type": "markdown",
   "metadata": {},
   "source": [
    "Let's load the alanine dipeptide system from file:"
   ]
  },
  {
   "cell_type": "code",
   "execution_count": null,
   "metadata": {},
   "outputs": [],
   "source": [
    "system = BSS.IO.readMolecules(\"input/ala.*\")"
   ]
  },
  {
   "cell_type": "markdown",
   "metadata": {},
   "source": [
    "Note that this is a solvated system, which contains the alanine dipeptide and a bunch of water molecules. Since we want to study the molecule in vacuum, we will extract the alanine dipeptide using a search:"
   ]
  },
  {
   "cell_type": "code",
   "execution_count": null,
   "metadata": {},
   "outputs": [],
   "source": [
    "search = system.search(\"resname ALA\").molecules()\n",
    "print(search)"
   ]
  },
  {
   "cell_type": "markdown",
   "metadata": {},
   "source": [
    "We found a single matching result. Lets extract the result from the search object:"
   ]
  },
  {
   "cell_type": "code",
   "execution_count": null,
   "metadata": {},
   "outputs": [],
   "source": [
    "molecule = search[0]"
   ]
  },
  {
   "cell_type": "markdown",
   "metadata": {},
   "source": [
    "Let's now examine each of the atoms in the molecule to make sure that it looks like we'd expect:"
   ]
  },
  {
   "cell_type": "code",
   "execution_count": null,
   "metadata": {},
   "outputs": [],
   "source": [
    "for atom in molecule.getAtoms():\n",
    "    print(atom)"
   ]
  },
  {
   "cell_type": "markdown",
   "metadata": {},
   "source": [
    "The atoms that define the two dihedrals are:\n",
    "\n",
    "$\\phi$: C index=4, N index=6, CA index=8, C index=14\n",
    "\n",
    "$\\psi$: N index=6, CA index=8, C index=14, N index=16\n",
    "\n",
    "Let's store the indices:"
   ]
  },
  {
   "cell_type": "code",
   "execution_count": null,
   "metadata": {},
   "outputs": [],
   "source": [
    "phi_idx = [4, 6, 8, 14]\n",
    "psi_idx = [6, 8, 14, 16]"
   ]
  },
  {
   "cell_type": "markdown",
   "metadata": {},
   "source": [
    "We now need to construct two _collective variables_ that represent the dihedrals (torsions) above. These are the variables that will be sampled during our metadynamics simulation, allowing us to estimate the free energy of the system as a function of the dihedral angles."
   ]
  },
  {
   "cell_type": "code",
   "execution_count": null,
   "metadata": {},
   "outputs": [],
   "source": [
    "phi = BSS.Metadynamics.CollectiveVariable.Torsion(atoms=phi_idx)\n",
    "psi = BSS.Metadynamics.CollectiveVariable.Torsion(atoms=psi_idx)"
   ]
  },
  {
   "cell_type": "markdown",
   "metadata": {},
   "source": [
    "Note how we passed the _indices_ of the atoms involved in the torsion to the constructor. Since atoms are indexed relative to the molecule that they belong it is important that we get the _absolute_ atom index within the system. In this case we have a single molecule, so all is okay, but in general you should be careful. For example, atom index 2 in molecule 2 won't be atom index 2 in the system, i.e. you would have to shift the index by the number of atoms in molecule 1.\n",
    "\n",
    "Thankfully we provide simple tools to compute this index for you. For example, for atom `CA` in the molecule:"
   ]
  },
  {
   "cell_type": "code",
   "execution_count": null,
   "metadata": {},
   "outputs": [],
   "source": [
    "# Search for the atom by name and get the result.\n",
    "atom = molecule.search(\"atomname CA\")[0]\n",
    "\n",
    "# Compute the index of the atom in the system from which it came.\n",
    "system.getIndex(atom)"
   ]
  },
  {
   "cell_type": "markdown",
   "metadata": {},
   "source": [
    "(In this case we get the same index as the molecule since the alanine dipeptide is the first molecule in the system.)\n",
    "\n",
    "There are many other options that can be set for collective variables, such as setting the width of the Gaussian hill that is used to bias a variable, specifying lower and upper bounds for the value of the variable, and sampling on a pre-defined grid to help speed up simulations. Run `help(BSS.Metadynamics.CollectiveVariable.Torsion)` to see what's available.\n",
    "\n",
    "We now need a protocol to describe our metadynamics simulation. Let's go with the defaults, other than increasing the run time to 3 nanoseconds to increase the amount of sampling."
   ]
  },
  {
   "cell_type": "code",
   "execution_count": null,
   "metadata": {},
   "outputs": [],
   "source": [
    "protocol = BSS.Protocol.Metadynamics(\n",
    "    collective_variable=[phi, psi], runtime=3 * BSS.Units.Time.nanosecond\n",
    ")"
   ]
  },
  {
   "cell_type": "markdown",
   "metadata": {},
   "source": [
    "To see what's been set for us we can print the object:"
   ]
  },
  {
   "cell_type": "code",
   "execution_count": null,
   "metadata": {},
   "outputs": [],
   "source": [
    "print(protocol)"
   ]
  },
  {
   "cell_type": "markdown",
   "metadata": {},
   "source": [
    "Phew, that's a lot of stuff! To get more detail about how to configure the protocol run `help(BSS.Protocol.Metadynamics`).\n",
    "\n",
    "Finally, we need a process to actually run our metadynamics simulation. BioSimSpace will automatically configure this for you with the `BSS.Metadynamics.run` function. Note that the function expects a `System` and a `Protcol` as arguments, so we convert our alanine dipeptide molecule to a single-molecule system by using `toSystem()`."
   ]
  },
  {
   "cell_type": "code",
   "execution_count": null,
   "metadata": {},
   "outputs": [],
   "source": [
    "process = BSS.Metadynamics.run(molecule.toSystem(), protocol)"
   ]
  },
  {
   "cell_type": "markdown",
   "metadata": {},
   "source": [
    "All being well, we should now have a simulation process running in the background. Let's check that it's running:"
   ]
  },
  {
   "cell_type": "code",
   "execution_count": null,
   "metadata": {},
   "outputs": [],
   "source": [
    "process.isRunning()"
   ]
  },
  {
   "cell_type": "markdown",
   "metadata": {},
   "source": [
    "BioSimSpace supports metadynamics simulations using [GROMACS](http://www.gromacs.org) and [PLUMED](https://www.plumed.org). To see the PLUMED configuration file that was generated:"
   ]
  },
  {
   "cell_type": "code",
   "execution_count": null,
   "metadata": {},
   "outputs": [],
   "source": [
    "process.getPlumedConfig()"
   ]
  },
  {
   "cell_type": "markdown",
   "metadata": {},
   "source": [
    "We can interact with the process directly and monitor the values of the collective variables as a function of time. Re-run the cell with CTRL+Enter to see the values update.\n",
    "\n",
    "(Note that the `getCollectiveVariable` function takes the indices of the collective variables that we pass to the `Protocol` constructor, i.e. 0 = $\\phi$, 1 = $\\psi$.)"
   ]
  },
  {
   "cell_type": "code",
   "execution_count": null,
   "metadata": {},
   "outputs": [],
   "source": [
    "print(\n",
    "    process.getTime(),\n",
    "    process.getCollectiveVariable(0),\n",
    "    process.getCollectiveVariable(1),\n",
    ")"
   ]
  },
  {
   "cell_type": "markdown",
   "metadata": {},
   "source": [
    "We can also plot the time evolution of the collective variables. Once again, use CTRL+Enter to re-run the see and see the plots update."
   ]
  },
  {
   "cell_type": "code",
   "execution_count": null,
   "metadata": {},
   "outputs": [],
   "source": [
    "BSS.Notebook.plot(\n",
    "    x=process.getTime(time_series=True),\n",
    "    y=process.getCollectiveVariable(0, time_series=True),\n",
    ")\n",
    "BSS.Notebook.plot(\n",
    "    x=process.getTime(time_series=True),\n",
    "    y=process.getCollectiveVariable(1, time_series=True),\n",
    ")"
   ]
  },
  {
   "cell_type": "markdown",
   "metadata": {},
   "source": [
    "It's also possible to compute the real-time free energy estimate. The returned `free_nrg` object is a tuple, containing lists for the values of $\\phi$ and $\\psi$, and the corresponding free energy estimate. We can use this $x$, $y$, and $z$ data to generate a contour plot:"
   ]
  },
  {
   "cell_type": "code",
   "execution_count": null,
   "metadata": {},
   "outputs": [],
   "source": [
    "free_nrg = process.getFreeEnergy()\n",
    "BSS.Notebook.plotContour(free_nrg[0], free_nrg[1], free_nrg[2])"
   ]
  },
  {
   "cell_type": "markdown",
   "metadata": {},
   "source": [
    "Re-run the cell with CTRL+Enter to see how the free energy surface changes as the metadynamics simulation explores more of phase space.\n",
    "\n",
    "If we are only intersted in the free energy as a function of a single collective variable, then it's possible to perform a projection by intergrating out the other variables. We can do this by passing the index of the collective variable of interest to the `getFreeEnergy` function, along with an appropriate temperature factor (in energy units) for integrating out the other variables. For example, to get the free energy as a function of $\\phi$ only, then visualise as a simple $x$-$y$ plot:"
   ]
  },
  {
   "cell_type": "code",
   "execution_count": null,
   "metadata": {},
   "outputs": [],
   "source": [
    "free_nrg_phi = process.getFreeEnergy(index=0, kt=2.5 * BSS.Units.Energy.kt)\n",
    "BSS.Notebook.plot(x=free_nrg_phi[0], y=free_nrg_phi[1])"
   ]
  },
  {
   "cell_type": "markdown",
   "metadata": {},
   "source": [
    "Having succesfully sampled the free energy landscape as a function of the $\\phi$ and $\\psi$ dihedral angles, we might next want to examine representative snapshots from the basins. To do this we can use the `sampleConfigurations` method of the `process` object. This takes a list of bounds for the values of the collective variables as an argument, along witht the maximum number of snaphots that we would like. The method returns a list of randomly sampled molecular configurations that lie within the bounds, along with a list containing the corresponding collective variable values.\n",
    "\n",
    "Let's consider the basin just to the right in the middle of the free-energy contour plot. This lies roughly at $0.5\\geq\\phi\\leq1.5$ and $-1.5\\geq\\psi\\leq0.5$."
   ]
  },
  {
   "cell_type": "code",
   "execution_count": null,
   "metadata": {},
   "outputs": [],
   "source": [
    "# Create bounds on the values of the collective variables. None can be used whenever a value is unconstrained.\n",
    "bounds = [\n",
    "    (0.5 * BSS.Units.Angle.radian, 1.5 * BSS.Units.Angle.radian),\n",
    "    (-1.5 * BSS.Units.Angle.radian, 0.5 * BSS.Units.Angle.radian),\n",
    "]\n",
    "\n",
    "# Get twenty randomly sampled configurations along with the collective variable values.\n",
    "# Note that the method will return (None, None) if we haven't yet sampled the region of\n",
    "# phase space defined by 'bounds'.\n",
    "configs, colvars = process.sampleConfigurations(bounds, 20)"
   ]
  },
  {
   "cell_type": "markdown",
   "metadata": {},
   "source": [
    "Let's examine the value of the collective variables for each sample to make sure they are in range:"
   ]
  },
  {
   "cell_type": "code",
   "execution_count": null,
   "metadata": {},
   "outputs": [],
   "source": [
    "colvars"
   ]
  },
  {
   "cell_type": "markdown",
   "metadata": {},
   "source": [
    "Let's now visualise the first configuration:"
   ]
  },
  {
   "cell_type": "code",
   "execution_count": null,
   "metadata": {},
   "outputs": [],
   "source": [
    "# Create a view object for the system of interest.\n",
    "view = BSS.Notebook.View(configs[0])\n",
    "\n",
    "# View the entire system.\n",
    "view.system()"
   ]
  },
  {
   "cell_type": "markdown",
   "metadata": {},
   "source": [
    "Congratulations, you've just run your first metadynamics simulation using BioSimSpace.\n",
    "\n",
    "# Exercise\n",
    "\n",
    "The files [nacl.gro](input/nacl.gro) and [nacl.top](input/nacl.top) represent a sodium and chloride ion (one of each)  solvated in a box of water. Using the information above and the [documentation](https://biosimspace.org), set up and run a metadynamics simulation to estimate the free energy as a function of the distance between the two ions (which can be used to compute the dissociation barrier.)\n",
    "\n",
    "**Hints**:\n",
    "\n",
    "- Search the system for the ions by name (using `atomname`) and get their indices.\n",
    "- You'll need to create a `BSS.Metadynamics.CollectiveVariable.Distance` object to define the collective variable. Since we don't want to waste valuable computational resources sampling large distances where the ions aren't interacting, use `BSS.Metadynamics.Bound` to create an upper bound at a distance of 0.6 nm. Set a force constant of 2000.\n",
    "- It is useful to adjust the width of the Gaussian hills used to sample the free energy landscape so that you can resolve features of interest. For this simulation, choose a hill width of 0.02 nm.\n",
    "- Metadynamics simulations can be run on a _grid_ to help reduce the computational cost as the simulation progresses. (From accumulating the bias potential.) Define a grid between 0 and 1 nm to use for this simulation.\n",
    "- You can run _well-tempered_ metadynamics by setting a bias factor in the protocol. Here the height of the Gaussian hills are adaptively decreased over time such that the bias converges in the long-time limit. The bias factor should be chosen to be larger than the highest barrier you expect in the system (in units of $k_\\mathrm{B}T$). In this system the largest barrier is expected to be around $5k_\\mathrm{B}T$, so a bias factor of 5 should work well.\n",
    "- On the notebook server we have restricted GROMACS to one MPI thread and two OpenMP threads per MPI thread. Depending on how many attendees there are, we might be able to use more resources per user to make your simulations go faster. To increase the number of OpenMP threads you can do something like the following:\n",
    "\n",
    "```python\n",
    "# Initialise a metadynamics process but don't start it.\n",
    "process = BSS.Metadynamics.run(system, protocol, auto_start=False)\n",
    "# Configure the GROMACS command-line arguments to use 4 OpenMP threads per MPI thread.\n",
    "process.setArg(\"-ntomp\", 4)\n",
    "# Start the process.\n",
    "process.start()\n",
    "```\n",
    "\n",
    "(Note that you can't set the number of OpenMP threads for a vacuum simulation, you can only partition space when there is a periodic box. Please don't use a very large number of threads or you will slow the server down for other users.)\n",
    "\n",
    "If you get stuck, an answer can be found [here](answers/metadynamics_solution.ipynb)."
   ]
  }
 ],
 "metadata": {
  "kernelspec": {
   "display_name": "Python 3 (ipykernel)",
   "language": "python",
   "name": "python3"
  },
  "language_info": {
   "codemirror_mode": {
    "name": "ipython",
    "version": 3
   },
   "file_extension": ".py",
   "mimetype": "text/x-python",
   "name": "python",
   "nbconvert_exporter": "python",
   "pygments_lexer": "ipython3",
   "version": "3.9.15"
  }
 },
 "nbformat": 4,
 "nbformat_minor": 2
}
