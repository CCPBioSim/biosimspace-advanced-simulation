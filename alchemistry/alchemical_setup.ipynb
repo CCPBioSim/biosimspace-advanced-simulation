{
 "cells": [
  {
   "cell_type": "markdown",
   "metadata": {},
   "source": [
    "# Alchemical free energy setup\n",
    "\n",
    "\n",
    "<a rel=\"license\" href=\"http://creativecommons.org/licenses/by/4.0/\"><img alt=\"Creative Commons Licence\" style=\"border-width:0\" src=\"https://i.creativecommons.org/l/by/4.0/88x31.png\" title='This work is licensed under a Creative Commons Attribution 4.0 International License.' align=\"right\"/></a>\n",
    "\n",
    "Authors:   \n",
    "[Antonia Mey -- @ppxasjsm](https://github.com/ppxasjsm)   \n",
    "[Lester Hedges -- @lohedges](https://github.com/lohedges)\n",
    "\n",
    "## Learning objectives:\n",
    "- Setup an alchemical solvation free energy simulation using BioSimSpace and SOMD\n",
    "- Setup an alchemical solvation free energy simulation using BioSimSpace and Gromacs\n",
    "- Setup an alchemical binding free energy simulation for Gromacs and SOMD using BioSimSpace\n",
    "\n",
    "You will be using the following functions in BioSimSpace:\n",
    "\n",
    "- `BSS.IO.readMolecules()` To load the molecules\n",
    "- `BSS.Parameters.gaff` To parameterise molecules using the Generalised Amber Force Field (GAFF)\n",
    "- `BSS.Parameters.ff14SB` To parameterise a protein using FF14SB\n",
    "- `BSS.Align.matchAtoms()` Maximum Common Substructure matches atoms for the morphing\n",
    "- `BSS.Align.rmsdAlign()` Aligns the molecules to be morphed\n",
    "- `BSS.Align.merge()` Creates a merged molecule used for alchemical simulations\n",
    "- `BSS.Solvent.tip3p()` Solvates a molecule in a tip3 water box\n",
    "- `BSS.Protocol.FreeEnergy()` Defines the free energy protocol\n",
    "- `BSS.FreeEnergy.Relative()` Sets up a leg for a relative free-energy simulation\n",
    "\n",
    "\n",
    "**Reading time**:\n",
    "~ 30 mins\n",
    "\n",
    "**Jupyter cheat sheet**:\n",
    "- To run the currently highlighted cell and move focus to the next cell, hold <kbd>&#x21E7; Shift</kbd> and press <kbd>&#x23ce; Enter</kbd>;\n",
    "- To run the currently highlighted cell and keep focus in the same cell, hold <kbd>&#x21E7; Ctri</kbd> and press <kbd>&#x23ce; Enter</kbd>;\n",
    "- To get help for a specific function, place the cursor within the function's brackets, hold <kbd>&#x21E7; Shift</kbd>, and press <kbd>&#x21E5; Tab</kbd>;\n",
    "- You can find the full documentation at [biosimspace.org](https://biosimspace.org).\n",
    "\n",
    "## Table of Contents\n",
    "1. [Working with ligands](#lig)    \n",
    "   1.1 [Loading ligands](#load)   \n",
    "   1.2 [Parametrising ligands](#param)   \n",
    "2. [Morphing ligands](#merge)   \n",
    "   2.1 [MCS](#mcs)   \n",
    "   2.2 [morphed ligand](#morph)   \n",
    "3. [Running solvation free energy simulation](#solv)\n",
    "4. [Binding free energy simulation](#bind)   \n",
    "5. [Exercises](#exerc2)   \n",
    "\n",
    "First, let's import BioSimspace!"
   ]
  },
  {
   "cell_type": "code",
   "execution_count": null,
   "metadata": {},
   "outputs": [],
   "source": [
    "import BioSimSpace as BSS"
   ]
  },
  {
   "cell_type": "markdown",
   "metadata": {},
   "source": [
    "## 1. Free energy of solvation of ethane and methanol\n",
    "<a id=\"lig\"></a>\n",
    "\n",
    "We want to compute the relative free energy of hydration between ethane and methanol. That is the free energy difference between hydrating an ethane molecule in water and a methanol molecule in water. (For reference, refer to the [slides](slides/CCPBioSim-FEP-tutorial.pdf)).\n",
    "\n",
    "Below you can see a thermodynamic cycle for the relative hydration free energy of ethane and methanol:\n",
    "![therm_cycle](images/Therm_cycle.png)"
   ]
  },
  {
   "cell_type": "markdown",
   "metadata": {},
   "source": [
    "### 1.1 Loading ligands\n",
    "<a id=\"load\"></a>\n",
    "Next, we read in the two molecules we want to perturb. In this case, this is ethane changing to methanol. You can use the BioSimSpace function `BSS.IO.readMolecules()` for this task."
   ]
  },
  {
   "cell_type": "code",
   "execution_count": null,
   "metadata": {},
   "outputs": [],
   "source": [
    "# We assume the molecules to perturb are the first molecules in each system. (Each file contains a single molecule.)\n",
    "ethane = BSS.IO.readMolecules(\"input/ethane.pdb\")[0]\n",
    "methanol = BSS.IO.readMolecules(\"input/methanol.pdb\")[0]"
   ]
  },
  {
   "cell_type": "markdown",
   "metadata": {},
   "source": [
    "It might be nice to quickly check we are reading in the right molecules so we can visualise them using the `View` class from `BSS.Notebook`."
   ]
  },
  {
   "cell_type": "code",
   "execution_count": null,
   "metadata": {},
   "outputs": [],
   "source": [
    "BSS.Notebook.View(\"input/ethane.pdb\").system()"
   ]
  },
  {
   "cell_type": "code",
   "execution_count": null,
   "metadata": {},
   "outputs": [],
   "source": [
    "BSS.Notebook.View(\"input/methanol.pdb\").system()"
   ]
  },
  {
   "cell_type": "markdown",
   "metadata": {},
   "source": [
    "### 1.2 Parametrising molecules\n",
    "<a id=\"param\"></a>\n",
    "\n",
    "Current we only have the coordinates information saved for the loaded molecules so the first thing we need to do is generated some forcefield parameters. In this case, we will use the Generalise Amber Force Field [(GAFF)](http://ambermd.org/antechamber/gaff.html)."
   ]
  },
  {
   "cell_type": "code",
   "execution_count": null,
   "metadata": {},
   "outputs": [],
   "source": [
    "ethane = BSS.Parameters.gaff(ethane).getMolecule()\n",
    "methanol = BSS.Parameters.gaff(methanol).getMolecule()"
   ]
  },
  {
   "cell_type": "markdown",
   "metadata": {},
   "source": [
    "## 2. Creating merged system\n",
    "<a id=\"merge\"></a>\n",
    "Now ethane and methanol have all the required properties for running an MD simulation of them individually. But here we are interested in creating a morphed system, or `single topology` for running an alchemical free energy calculation. In this case, two of the ethane hydrogens will turn into dummy atoms and the second carbon and the 3rd hydrogen will turn into the `OH` group of the methanol. "
   ]
  },
  {
   "cell_type": "markdown",
   "metadata": {},
   "source": [
    "### 2.1 Maximum Common Substructure (MCS)\n",
    "<a id=\"MCS\"></a>\n",
    "In order to automatically figure out which atoms are common between ethane and methanol we can use the `matchAtoms()` function of BioSimSpace. This will compute a Maxmimum Common Substructure (MCS) match and return a dictionary that maps the indices of atoms in the ethane molecule to the indices of the atoms in the ethanol to which they match. An example of what and MCS match might look like is shown here:\n",
    "![MCS](images/MCS.png)\n"
   ]
  },
  {
   "cell_type": "code",
   "execution_count": null,
   "metadata": {},
   "outputs": [],
   "source": [
    "mapping = BSS.Align.matchAtoms(ethane, methanol)\n",
    "\n",
    "# Mapping is a dictionary mapping atom indices in ethane to those in methanol.\n",
    "print(mapping)"
   ]
  },
  {
   "cell_type": "markdown",
   "metadata": {},
   "source": [
    "Once we have the mapping we can align the molecules to each other using a root mean squared displacemnt (RMSD) metric and from the alignment we can then create a merged molecule which contains all of the `single topology` information needed for the alchemical perturbation.\n",
    "\n",
    "To visualise the mapping we can use:"
   ]
  },
  {
   "cell_type": "code",
   "execution_count": null,
   "metadata": {},
   "outputs": [],
   "source": [
    "BSS.Align.viewMapping(ethane, methanol, mapping)"
   ]
  },
  {
   "cell_type": "markdown",
   "metadata": {},
   "source": [
    "The two molecules are displayed side-by-side with numbers used to indicate which atoms map to each other. For eample, the carbon indexed 0 in the ethane molecule maps to a hydrogen indexed 4 in the methanol."
   ]
  },
  {
   "cell_type": "markdown",
   "metadata": {},
   "source": [
    "### 2.2 Creating a merged molecule\n",
    "\n",
    "In order to perform an alchemical simulation we need to create a _merged_ molecule that combines that properties of the two molecules. To do so we first need to align one molecule to the other, based on the mapping. This can be achieved using the `rsmdAlign` function:"
   ]
  },
  {
   "cell_type": "code",
   "execution_count": null,
   "metadata": {},
   "outputs": [],
   "source": [
    "# Align ethane to methanol based on the mapping.\n",
    "ethane = BSS.Align.rmsdAlign(ethane, methanol, mapping)"
   ]
  },
  {
   "cell_type": "markdown",
   "metadata": {},
   "source": [
    "We can now _merge_ the two molecules. This will create a composite molecule containing all of the molecular properties at both end states. If the molecules are a different size, then the smaller will contain dummy atoms to represent the atoms that will _appear_ during the perturbation. In this case, the merged methanol end state will contain two dummy atoms corresponding to the extra hydrogen atoms in the ethane molecule."
   ]
  },
  {
   "cell_type": "code",
   "execution_count": null,
   "metadata": {},
   "outputs": [],
   "source": [
    "# Merge the ethane and methanol based on the mapping.\n",
    "merged = BSS.Align.merge(ethane, methanol, mapping)"
   ]
  },
  {
   "cell_type": "markdown",
   "metadata": {},
   "source": [
    "### 2.3 Solvation\n",
    "<a id=\"solv\"></a>\n",
    "\n",
    "Before we can run a free energy simulation we will have to solvate the system. In this case, rather than passing ethane and methanol separately we will solvate the whole merged system. Here we use a cubic box with a base length of 40 Angstroms."
   ]
  },
  {
   "cell_type": "code",
   "execution_count": null,
   "metadata": {},
   "outputs": [],
   "source": [
    "solvated = BSS.Solvent.tip3p(\n",
    "    molecule=merged,\n",
    "    box=3*[40*BSS.Units.Length.angstrom]\n",
    ")"
   ]
  },
  {
   "cell_type": "markdown",
   "metadata": {},
   "source": [
    "### 2.4 Reading and writing perturbable systems\n",
    "\n",
    "You might wish to save a perturbable system to file for use in a future simulation, or to share with a colleague. To do so you can use the `BioSimSpace.IO.savePerturbableSystem` function. This writes the topology and coordinate files for the two end states, which can be read back to reconstruct the system. For example:"
   ]
  },
  {
   "cell_type": "code",
   "execution_count": null,
   "metadata": {},
   "outputs": [],
   "source": [
    "BSS.IO.savePerturbableSystem(\"pert\", solvated)"
   ]
  },
  {
   "cell_type": "markdown",
   "metadata": {},
   "source": [
    "There should now be four new AMBER format files in your working directory:"
   ]
  },
  {
   "cell_type": "code",
   "execution_count": null,
   "metadata": {},
   "outputs": [],
   "source": [
    "! ls pert*"
   ]
  },
  {
   "cell_type": "markdown",
   "metadata": {},
   "source": [
    "Here `pert0.prm7` and `pert1.prm7` are the topology files for the two end states and `pert0.rst7` and `pert1.rst7` are the coordinates. To re-load the files we can use:"
   ]
  },
  {
   "cell_type": "code",
   "execution_count": null,
   "metadata": {},
   "outputs": [],
   "source": [
    "solvated = BSS.IO.readPerturbableSystem(\n",
    "    \"pert0.prm7\", \"pert0.rst7\", \"pert1.prm7\", \"pert1.rst7\"\n",
    ")"
   ]
  },
  {
   "cell_type": "markdown",
   "metadata": {},
   "source": [
    "## 3. Solvation free energy\n",
    "<a id=\"free\"></a>\n",
    "We now need to define a protocol to describe the parameters used for the free energy perturbation. A simple protocol consists of a 2 fs timestep a runtime of 4 ns and using equally spaced 9 $\\lambda$ windows:"
   ]
  },
  {
   "cell_type": "code",
   "execution_count": null,
   "metadata": {},
   "outputs": [],
   "source": [
    "protocol = BSS.Protocol.FreeEnergy(\n",
    "    timestep=2*BSS.Units.Time.femtosecond,\n",
    "    runtime=4*BSS.Units.Time.nanosecond,\n",
    "    num_lam=9\n",
    ")"
   ]
  },
  {
   "cell_type": "markdown",
   "metadata": {},
   "source": [
    "Next we want to create objects to configure and run the two legs associated with the relative free-energy perturbation calculation:"
   ]
  },
  {
   "cell_type": "code",
   "execution_count": null,
   "metadata": {},
   "outputs": [],
   "source": [
    "fep_free = BSS.FreeEnergy.Relative(\n",
    "    solvated,\n",
    "    protocol,\n",
    "    work_dir=\"ethane_methanol_somd/free\"\n",
    ")\n",
    "fep_vac  = BSS.FreeEnergy.Relative(\n",
    "    merged.toSystem(),\n",
    "    protocol,\n",
    "    work_dir=\"ethane_methanol_somd/vacuum\"\n",
    ")"
   ]
  },
  {
   "cell_type": "markdown",
   "metadata": {},
   "source": [
    "Decoupling the two legs means that we can use a different protocol for each, e.g. less lambda windows for the vacuum leg, or re-use data from a leg in an entirely different calculation, e.g. for a binding free-energy simulation, or to combine results for legs that were run with entirely simulation engines, e.g. SOMD or GROMACS.\n",
    "\n",
    "To run simulations for all of the individual lambda windows for the free leg, you can use:\n",
    "\n",
    "`fep_free.run()`   \n",
    "\n",
    "This only makes sense on a workstation with GPUs or GPU cloud resources or a GPU cluster. Otherwise you will have to wait for too long to run these simulations on the notebook server.\n",
    "\n",
    "Let's have a look the `ethane_methanol_somd/free` directory. In this directory you have now all the files setup and ready for simulation using SOMD as the simulation engine, which is the default."
   ]
  },
  {
   "cell_type": "code",
   "execution_count": null,
   "metadata": {},
   "outputs": [],
   "source": [
    "! ls ethane_methanol_somd/free"
   ]
  },
  {
   "cell_type": "markdown",
   "metadata": {},
   "source": [
    "### 3.1. Exercises\n",
    "<a id=\"exerc1\"></a>\n",
    "\n",
    "The exercises are announced by the keyword **Exercise** and followed by an incomplete cell.\n",
    "Missing parts are indicated by:\n",
    "\n",
    "```python\n",
    "#FIXME\n",
    "```\n",
    "\n",
    "### 3.1.1. Exercise on selecting lambda windows\n",
    "\n",
    "Above we defined a protocol with 9 $\\lambda$ windows. For this system this isn't an optimal protocol and we would like to instead use 12 lambda window. Can you write down a protocol that would allow you to run 12 rather than 9 lambda windows?"
   ]
  },
  {
   "cell_type": "code",
   "execution_count": null,
   "metadata": {},
   "outputs": [],
   "source": [
    "protocol = BSS.Protocol.FreeEnergy(#FIXME)"
   ]
  },
  {
   "cell_type": "markdown",
   "metadata": {},
   "source": [
    "### 3.1.2. Exercise on merged molecules\n",
    "Previously we have set up an ethane to methanol alchemical free energy simulation. One way of assessing how good an estimate of a free energy difference from an alchemical simulation is by running the simulation in the opposite direction, i.e. methanol to ethane. Can you set up a new merged molecule and run the necessary steps for the free energy setup?"
   ]
  },
  {
   "cell_type": "code",
   "execution_count": null,
   "metadata": {},
   "outputs": [],
   "source": [
    "mapping = #FIXME\n",
    "\n",
    "# Align methanol to ethane based on the mapping.\n",
    "methanol = BSS.Align.rmsdAlign(#FIXME)\n",
    "\n",
    "# Merge the two molecules based on the mapping.\n",
    "merged_methanol = #FIXME\n",
    "solvated_methanol = #FIXME\n",
    "fep_methanol_free = #FIXME\n",
    "fep_methanol_vac = #FIXME"
   ]
  },
  {
   "cell_type": "markdown",
   "metadata": {},
   "source": [
    "### 3.1.3. Exercise on using different simulation engines\n",
    "\n",
    "Currently, alchemical free energy simulations with SOMD and Gromacs are supported. Can you figure out how to setup and run the simulations for the free leg using GROMACS rather than the default of SOMD?\n",
    "\n",
    "**Hint**: look at the `engine` keyword of `FreeEnergy.Relative()`. You might also want to change the working directory."
   ]
  },
  {
   "cell_type": "code",
   "execution_count": null,
   "metadata": {},
   "outputs": [],
   "source": [
    "fep_gromacs_free = BSS.FreeEnergy.Relative(#FIXME)"
   ]
  },
  {
   "cell_type": "markdown",
   "metadata": {},
   "source": [
    "You will notice that again in your `work_dir`, two directories were created `free` and `vacuum`. Have a look at the content of these directories. You will notice that the input files that were generated are now indeed for GROMACS and not SOMD. Take a moment to look at the config files etc, e.g.:"
   ]
  },
  {
   "cell_type": "code",
   "execution_count": null,
   "metadata": {},
   "outputs": [],
   "source": [
    "! ls ethane_methanol_gromacs/free/lambda_0.000"
   ]
  },
  {
   "cell_type": "markdown",
   "metadata": {},
   "source": [
    "## 4. Free energy of binding\n",
    "<a id=\"bind\"></a>\n",
    "\n",
    "So far we have done a setup for free energies of hydration. Next we'll learn how to use BioSimSpace to set up alchemical free energy simulations that can be used to compute free energies of binding. The thermodynamic cycle for the free energy of binding looks like this:\n",
    "\n",
    "![reltherm](images/thermo_cycle_rel_eq.png)\n",
    "\n",
    "In our case the host is Lysozyme, an antimicrobial protein, which has been studied extensivley using alchemical free energy calculations in the past.  "
   ]
  },
  {
   "cell_type": "markdown",
   "metadata": {},
   "source": [
    "### 4.1 Loading the protein and ligands\n",
    "Loading the protein is done in the same way as loading the small molecules. However, in order to compute free energies of binding, we have to make sure that the ligand is aligned with the protein and in an appropriate binding site. BioSimSpace is not a docking program. Therefore ligands will have to be aligned for alchemical free energy calculations in a different way. First, we will load the protein and ligands to check if they are aligned correctly for the calculation. "
   ]
  },
  {
   "cell_type": "code",
   "execution_count": null,
   "metadata": {},
   "outputs": [],
   "source": [
    "# Load the protein and two ligands.\n",
    "lysozyme = BSS.IO.readMolecules(\"input/protein.pdb\")[0]\n",
    "benzene = BSS.IO.readMolecules(\"input/benzene.mol2\")[0]\n",
    "o_xylene = BSS.IO.readMolecules(\"input/o-xylene.mol2\")[0]"
   ]
  },
  {
   "cell_type": "code",
   "execution_count": null,
   "metadata": {},
   "outputs": [],
   "source": [
    "# Combine the molecules into a single container.\n",
    "molecules = lysozyme + benzene + o_xylene"
   ]
  },
  {
   "cell_type": "code",
   "execution_count": null,
   "metadata": {},
   "outputs": [],
   "source": [
    "# Create a view to visualise the molecules.\n",
    "view = BSS.Notebook.View(molecules)\n",
    "# View the entire system.\n",
    "view.system()"
   ]
  },
  {
   "cell_type": "markdown",
   "metadata": {},
   "source": [
    "### 4.2 Parametrisation\n",
    "<a id=\"param\"></a>\n",
    "\n",
    "For the protein, we can use a standard Amber forcefield such as `Amber 14 SB`:"
   ]
  },
  {
   "cell_type": "code",
   "execution_count": null,
   "metadata": {},
   "outputs": [],
   "source": [
    "lysozyme = BSS.Parameters.ff14SB(lysozyme).getMolecule()"
   ]
  },
  {
   "cell_type": "markdown",
   "metadata": {},
   "source": [
    "For the two ligands we can chose to parametrise them using `gaff2`. "
   ]
  },
  {
   "cell_type": "code",
   "execution_count": null,
   "metadata": {},
   "outputs": [],
   "source": [
    "benzene = BSS.Parameters.gaff2(benzene).getMolecule()\n",
    "o_xylene = BSS.Parameters.gaff2(o_xylene).getMolecule()"
   ]
  },
  {
   "cell_type": "markdown",
   "metadata": {},
   "source": [
    "### 5.3 Morphing again\n",
    "\n",
    "Now all we have to do is go back through the morphing process and then combine the system. "
   ]
  },
  {
   "cell_type": "code",
   "execution_count": null,
   "metadata": {},
   "outputs": [],
   "source": [
    "mapping = BSS.Align.matchAtoms(o_xylene, benzene)"
   ]
  },
  {
   "cell_type": "code",
   "execution_count": null,
   "metadata": {},
   "outputs": [],
   "source": [
    "# Align o_xylene to benzene based on the mapping.\n",
    "o_xylene = BSS.Align.rmsdAlign(o_xylene, benzene, mapping)\n",
    "\n",
    "# Merge the two ligands based on the mapping.\n",
    "merged = BSS.Align.merge(o_xylene, benzene, mapping)"
   ]
  },
  {
   "cell_type": "markdown",
   "metadata": {},
   "source": [
    "Next we need to create a composite system containing the merged molecule and the protein:"
   ]
  },
  {
   "cell_type": "code",
   "execution_count": null,
   "metadata": {},
   "outputs": [],
   "source": [
    "complx = merged + lysozyme"
   ]
  },
  {
   "cell_type": "markdown",
   "metadata": {},
   "source": [
    "### 5.4 Binding free energy simulation\n",
    "Now we can solvate and set up the binding free energy simulation. It looks very similar to the solvation one."
   ]
  },
  {
   "cell_type": "code",
   "execution_count": null,
   "metadata": {},
   "outputs": [],
   "source": [
    "# Solvate the protein ligand complex in a 60 angstrom box of TIP3P water.\n",
    "complex_sol = BSS.Solvent.tip3p(\n",
    "    molecule=complx,\n",
    "    box=3*[60*BSS.Units.Length.angstrom]\n",
    ")\n",
    "\n",
    "# Solvate the merged ligand in a 60 angstrom box of TIP3P water.\n",
    "merged_sol = BSS.Solvent.tip3p(\n",
    "    molecule=merged,\n",
    "    box=3*[60*BSS.Units.Length.angstrom]\n",
    ")\n",
    "\n",
    "# Create the free energy protocol.\n",
    "protocol = BSS.Protocol.FreeEnergy(\n",
    "    runtime=4*BSS.Units.Time.nanosecond,\n",
    "    num_lam=9\n",
    ")\n",
    "\n",
    "# Initialise relative free energy objects for each leg.\n",
    "# (Once again, this defaults to the SOMD engine.)\n",
    "fep_bound = BSS.FreeEnergy.Relative(\n",
    "    complex_sol,\n",
    "    protocol,\n",
    "    work_dir=\"o_xylene_benzene/bound\"\n",
    ")\n",
    "fep_free  = BSS.FreeEnergy.Relative(\n",
    "    merged_sol,\n",
    "    protocol,\n",
    "    work_dir=\"o_xylene_benzene/free\"\n",
    ")"
   ]
  },
  {
   "cell_type": "markdown",
   "metadata": {},
   "source": [
    "`fep_bound.run()`\n",
    "Would run the simulation for the _bound_ leg.. \n",
    "\n",
    "### 5.5 Exercises\n",
    "<a id=\"exerc2\"></a>\n",
    "Exercises for binding free energies. \n",
    "\n",
    "### 5.5.1 Box sizes of the solvated leg\n",
    "One thing you can notice is that the box size of the bound and free leg are the same. This of course is a bit silly, because you don't need to use such a large box for just running the ligand in water. Since the two legs are decoupled, we can just solvate the ligand in a smaller box for the free leg."
   ]
  },
  {
   "cell_type": "code",
   "execution_count": null,
   "metadata": {},
   "outputs": [],
   "source": [
    "# Solvate the ligand in a smaller 30 angstrom box of TIP3P water.\n",
    "merged_sol = #FIXME\n",
    "\n",
    "# Recreate the object using the smaller system.\n",
    "fep_free = BSS.FreeEnergy.Relative(\n",
    "    merged_sol,\n",
    "    protocol,\n",
    "    work_dir=\"o_xylene_benzene/free\"\n",
    ")"
   ]
  },
  {
   "cell_type": "markdown",
   "metadata": {},
   "source": [
    "### 5.5.2. Running a minimisation and equilibration before the production\n",
    "\n",
    "It is good practice to minimise and equilibrate the molecular system _before_ setting up the free energy simulations. Thankfully BiomSpace can handle systems containing perturbable molecules for simulation protocols other than `BioSimSpace.Protocol.FreeEnergy`. For example, this means that you can create a process to minimise a specified end state (lambda = 0 by default) of a perturbable system. In the box below, write some code to run a minmisation and equilibration on the system (`complx`).\n",
    "\n",
    "**Hint**: use the [documentation](https://biosimspace.org/). Also when returning the system use `getSystem(block=True)` so that we wait for the minimisation and equilibration simulations to finish before returning the system."
   ]
  },
  {
   "cell_type": "code",
   "execution_count": null,
   "metadata": {},
   "outputs": [],
   "source": [
    "minimised = #FIXME\n",
    "equilibrated = #FIXME\n",
    "\n",
    "# Create the free energy protocol.\n",
    "protocol = BSS.Protocol.FreeEnergy(\n",
    "    runtime=4*BSS.Units.Time.nanosecond,\n",
    "    num_lam=9\n",
    ")\n",
    "\n",
    "# Initialise relative free energy objects for each leg.\n",
    "fep_bound = BSS.FreeEnergy.Relative(\n",
    "    equilibrated,\n",
    "    protocol,\n",
    "    work_dir=\"exercise_5_3/bound\"\n",
    ")"
   ]
  }
 ],
 "metadata": {
  "kernelspec": {
   "display_name": "Python 3 (ipykernel)",
   "language": "python",
   "name": "python3"
  },
  "language_info": {
   "codemirror_mode": {
    "name": "ipython",
    "version": 3
   },
   "file_extension": ".py",
   "mimetype": "text/x-python",
   "name": "python",
   "nbconvert_exporter": "python",
   "pygments_lexer": "ipython3",
   "version": "3.9.15"
  }
 },
 "nbformat": 4,
 "nbformat_minor": 2
}
